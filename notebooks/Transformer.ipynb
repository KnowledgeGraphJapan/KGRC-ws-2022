{
  "nbformat": 4,
  "nbformat_minor": 0,
  "metadata": {
    "colab": {
      "provenance": []
    },
    "kernelspec": {
      "name": "python3",
      "display_name": "Python 3"
    },
    "language_info": {
      "name": "python"
    },
    "accelerator": "GPU",
    "gpuClass": "standard"
  },
  "cells": [
    {
      "cell_type": "markdown",
      "source": [
        "# レポジトリのコピーを作成"
      ],
      "metadata": {
        "id": "ZpoUQdYBW5gx"
      }
    },
    {
      "cell_type": "code",
      "source": [
        "!rm -rf KGRC-RDF\n",
        "!git clone -b kgrc4si https://github.com/KnowledgeGraphJapan/KGRC-RDF.git"
      ],
      "metadata": {
        "id": "e1NRMUSNwUyU"
      },
      "execution_count": null,
      "outputs": []
    },
    {
      "cell_type": "code",
      "source": [
        "!rm -rf KGRC-ws-2022\n",
        "!git clone -b 20230210 https://github.com/KnowledgeGraphJapan/KGRC-ws-2022.git"
      ],
      "metadata": {
        "id": "lDLJYEklwjY6"
      },
      "execution_count": null,
      "outputs": []
    },
    {
      "cell_type": "markdown",
      "source": [
        "# 学習データの作成"
      ],
      "metadata": {
        "id": "x1_JRcbzXFLU"
      }
    },
    {
      "cell_type": "code",
      "source": [
        "!python KGRC-ws-2022/PtoSentence.py > train.txt\n",
        "!head train.txt"
      ],
      "metadata": {
        "id": "TPJi6PrexU92"
      },
      "execution_count": null,
      "outputs": []
    },
    {
      "cell_type": "markdown",
      "source": [
        "# ライブラリのインストール (Happy Transformer)"
      ],
      "metadata": {
        "id": "lHHalEEEXPTH"
      }
    },
    {
      "cell_type": "code",
      "execution_count": null,
      "metadata": {
        "id": "Y3lfwhQL9faY"
      },
      "outputs": [],
      "source": [
        "!pip install transformers datasets torch"
      ]
    },
    {
      "cell_type": "code",
      "source": [
        "!pip install happytransformer"
      ],
      "metadata": {
        "id": "VRU9lFNqdww8"
      },
      "execution_count": null,
      "outputs": []
    },
    {
      "cell_type": "code",
      "source": [
        "from happytransformer import HappyGeneration, GENSettings\n",
        "#--------------------------------------#\n",
        "happy_gen = HappyGeneration()  # default uses gpt2\n",
        "args = GENSettings(max_length=50)\n",
        "result = happy_gen.generate_text(\"Char1 walk \", args=args)    \n",
        "print(result)  # GenerationResult(text='\\xa0a new field of research that has been gaining momentum in recent years.')\n",
        "print(result.text)  #  a new field of research that has been gaining momentum in recent years.\n"
      ],
      "metadata": {
        "id": "bDkvsFUjd9ML"
      },
      "execution_count": null,
      "outputs": []
    },
    {
      "cell_type": "markdown",
      "source": [
        "# 学習"
      ],
      "metadata": {
        "id": "KFehxrZ2XfJS"
      }
    },
    {
      "cell_type": "code",
      "source": [
        "happy_gen.train(\"train.txt\")"
      ],
      "metadata": {
        "id": "tLg9w80gj6KP"
      },
      "execution_count": null,
      "outputs": []
    },
    {
      "cell_type": "markdown",
      "source": [
        "# 生成"
      ],
      "metadata": {
        "id": "NWTjxaxUXwrk"
      }
    },
    {
      "cell_type": "code",
      "source": [
        "result = happy_gen.generate_text(\"Mr. Avator walk \", args=args)    \n",
        "print(result)  # GenerationResult(text='\\xa0a new field of research that has been gaining momentum in recent years.')\n",
        "print(result.text)  #  a new field of research that has been gaining momentum in recent years."
      ],
      "metadata": {
        "id": "GRkGb4z5kZ_p"
      },
      "execution_count": null,
      "outputs": []
    },
    {
      "cell_type": "code",
      "source": [
        "beam_settings = GENSettings(num_beams=5,  max_length=50)\n",
        "result = happy_gen.generate_text(\"Mr. Avator walk \", args=beam_settings)    \n",
        "print(result.text)"
      ],
      "metadata": {
        "id": "ILD46xpn7qX4"
      },
      "execution_count": null,
      "outputs": []
    },
    {
      "cell_type": "code",
      "source": [
        "generic_sampling_settings = GENSettings(do_sample=True, top_k=0, temperature=0.7,  max_length=50)\n",
        "result = happy_gen.generate_text(\"Mr. Avator walk \", args=generic_sampling_settings)    \n",
        "print(result.text)"
      ],
      "metadata": {
        "id": "pz4wyJLA8Bvu"
      },
      "execution_count": null,
      "outputs": []
    }
  ]
}