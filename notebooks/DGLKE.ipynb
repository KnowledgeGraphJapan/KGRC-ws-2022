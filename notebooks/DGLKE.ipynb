{
  "nbformat": 4,
  "nbformat_minor": 0,
  "metadata": {
    "colab": {
      "provenance": []
    },
    "kernelspec": {
      "name": "python3",
      "display_name": "Python 3"
    },
    "language_info": {
      "name": "python"
    },
    "accelerator": "GPU",
    "gpuClass": "standard"
  },
  "cells": [
    {
      "cell_type": "markdown",
      "source": [
        "DGLKEのインストール"
      ],
      "metadata": {
        "id": "ccEl_nqxZZMS"
      }
    },
    {
      "cell_type": "code",
      "execution_count": 2,
      "metadata": {
        "colab": {
          "base_uri": "https://localhost:8080/"
        },
        "id": "uEzguqlHQRCM",
        "outputId": "977f4d5e-70d5-4b45-cb6a-e8ada197d8c4"
      },
      "outputs": [
        {
          "output_type": "stream",
          "name": "stdout",
          "text": [
            "Looking in indexes: https://pypi.org/simple, https://us-python.pkg.dev/colab-wheels/public/simple/\n",
            "Requirement already satisfied: torch in /usr/local/lib/python3.7/dist-packages (1.12.1+cu113)\n",
            "Requirement already satisfied: typing-extensions in /usr/local/lib/python3.7/dist-packages (from torch) (4.1.1)\n",
            "Looking in indexes: https://pypi.org/simple, https://us-python.pkg.dev/colab-wheels/public/simple/\n",
            "Collecting ogb\n",
            "  Downloading ogb-1.3.5-py3-none-any.whl (78 kB)\n",
            "\u001b[K     |████████████████████████████████| 78 kB 5.8 MB/s \n",
            "\u001b[?25hRequirement already satisfied: urllib3>=1.24.0 in /usr/local/lib/python3.7/dist-packages (from ogb) (1.24.3)\n",
            "Requirement already satisfied: pandas>=0.24.0 in /usr/local/lib/python3.7/dist-packages (from ogb) (1.3.5)\n",
            "Requirement already satisfied: scikit-learn>=0.20.0 in /usr/local/lib/python3.7/dist-packages (from ogb) (1.0.2)\n",
            "Requirement already satisfied: tqdm>=4.29.0 in /usr/local/lib/python3.7/dist-packages (from ogb) (4.64.1)\n",
            "Requirement already satisfied: torch>=1.6.0 in /usr/local/lib/python3.7/dist-packages (from ogb) (1.12.1+cu113)\n",
            "Requirement already satisfied: numpy>=1.16.0 in /usr/local/lib/python3.7/dist-packages (from ogb) (1.21.6)\n",
            "Collecting outdated>=0.2.0\n",
            "  Downloading outdated-0.2.2-py2.py3-none-any.whl (7.5 kB)\n",
            "Requirement already satisfied: six>=1.12.0 in /usr/local/lib/python3.7/dist-packages (from ogb) (1.15.0)\n",
            "Requirement already satisfied: requests in /usr/local/lib/python3.7/dist-packages (from outdated>=0.2.0->ogb) (2.23.0)\n",
            "Collecting littleutils\n",
            "  Downloading littleutils-0.2.2.tar.gz (6.6 kB)\n",
            "Requirement already satisfied: setuptools>=44 in /usr/local/lib/python3.7/dist-packages (from outdated>=0.2.0->ogb) (57.4.0)\n",
            "Requirement already satisfied: pytz>=2017.3 in /usr/local/lib/python3.7/dist-packages (from pandas>=0.24.0->ogb) (2022.6)\n",
            "Requirement already satisfied: python-dateutil>=2.7.3 in /usr/local/lib/python3.7/dist-packages (from pandas>=0.24.0->ogb) (2.8.2)\n",
            "Requirement already satisfied: threadpoolctl>=2.0.0 in /usr/local/lib/python3.7/dist-packages (from scikit-learn>=0.20.0->ogb) (3.1.0)\n",
            "Requirement already satisfied: scipy>=1.1.0 in /usr/local/lib/python3.7/dist-packages (from scikit-learn>=0.20.0->ogb) (1.7.3)\n",
            "Requirement already satisfied: joblib>=0.11 in /usr/local/lib/python3.7/dist-packages (from scikit-learn>=0.20.0->ogb) (1.2.0)\n",
            "Requirement already satisfied: typing-extensions in /usr/local/lib/python3.7/dist-packages (from torch>=1.6.0->ogb) (4.1.1)\n",
            "Requirement already satisfied: chardet<4,>=3.0.2 in /usr/local/lib/python3.7/dist-packages (from requests->outdated>=0.2.0->ogb) (3.0.4)\n",
            "Requirement already satisfied: idna<3,>=2.5 in /usr/local/lib/python3.7/dist-packages (from requests->outdated>=0.2.0->ogb) (2.10)\n",
            "Requirement already satisfied: certifi>=2017.4.17 in /usr/local/lib/python3.7/dist-packages (from requests->outdated>=0.2.0->ogb) (2022.9.24)\n",
            "Building wheels for collected packages: littleutils\n",
            "  Building wheel for littleutils (setup.py) ... \u001b[?25l\u001b[?25hdone\n",
            "  Created wheel for littleutils: filename=littleutils-0.2.2-py3-none-any.whl size=7049 sha256=ef05aed82694d13389faa6c48faec8247f0536dee103dab9a9d858c910fc61f0\n",
            "  Stored in directory: /root/.cache/pip/wheels/d6/64/cd/32819b511a488e4993f2fab909a95330289c3f4e0f6ef4676d\n",
            "Successfully built littleutils\n",
            "Installing collected packages: littleutils, outdated, ogb\n",
            "Successfully installed littleutils-0.2.2 ogb-1.3.5 outdated-0.2.2\n",
            "Looking in indexes: https://pypi.org/simple, https://us-python.pkg.dev/colab-wheels/public/simple/\n",
            "Collecting dgl==0.4.3\n",
            "  Downloading dgl-0.4.3-cp37-cp37m-manylinux1_x86_64.whl (3.0 MB)\n",
            "\u001b[K     |████████████████████████████████| 3.0 MB 15.0 MB/s \n",
            "\u001b[?25hRequirement already satisfied: numpy>=1.14.0 in /usr/local/lib/python3.7/dist-packages (from dgl==0.4.3) (1.21.6)\n",
            "Requirement already satisfied: scipy>=1.1.0 in /usr/local/lib/python3.7/dist-packages (from dgl==0.4.3) (1.7.3)\n",
            "Requirement already satisfied: networkx>=2.1 in /usr/local/lib/python3.7/dist-packages (from dgl==0.4.3) (2.6.3)\n",
            "Requirement already satisfied: requests>=2.19.0 in /usr/local/lib/python3.7/dist-packages (from dgl==0.4.3) (2.23.0)\n",
            "Requirement already satisfied: idna<3,>=2.5 in /usr/local/lib/python3.7/dist-packages (from requests>=2.19.0->dgl==0.4.3) (2.10)\n",
            "Requirement already satisfied: urllib3!=1.25.0,!=1.25.1,<1.26,>=1.21.1 in /usr/local/lib/python3.7/dist-packages (from requests>=2.19.0->dgl==0.4.3) (1.24.3)\n",
            "Requirement already satisfied: certifi>=2017.4.17 in /usr/local/lib/python3.7/dist-packages (from requests>=2.19.0->dgl==0.4.3) (2022.9.24)\n",
            "Requirement already satisfied: chardet<4,>=3.0.2 in /usr/local/lib/python3.7/dist-packages (from requests>=2.19.0->dgl==0.4.3) (3.0.4)\n",
            "Installing collected packages: dgl\n",
            "Successfully installed dgl-0.4.3\n"
          ]
        }
      ],
      "source": [
        "!pip3 install torch\n",
        "!pip3 install ogb\n",
        "!pip3 install dgl==0.4.3"
      ]
    },
    {
      "cell_type": "code",
      "source": [
        "!git clone https://github.com/awslabs/dgl-ke.git\n",
        "%cd dgl-ke/python\n",
        "!python3 setup.py install"
      ],
      "metadata": {
        "colab": {
          "base_uri": "https://localhost:8080/"
        },
        "id": "wludbXqAQ_Vq",
        "outputId": "6cc78460-6752-4684-bf36-435e0061a2b6"
      },
      "execution_count": 3,
      "outputs": [
        {
          "output_type": "stream",
          "name": "stdout",
          "text": [
            "Cloning into 'dgl-ke'...\n",
            "remote: Enumerating objects: 1774, done.\u001b[K\n",
            "remote: Counting objects: 100% (211/211), done.\u001b[K\n",
            "remote: Compressing objects: 100% (146/146), done.\u001b[K\n",
            "remote: Total 1774 (delta 79), reused 151 (delta 53), pack-reused 1563\u001b[K\n",
            "Receiving objects: 100% (1774/1774), 4.90 MiB | 23.77 MiB/s, done.\n",
            "Resolving deltas: 100% (1035/1035), done.\n",
            "/content/dgl-ke/python\n",
            "running install\n",
            "running bdist_egg\n",
            "running egg_info\n",
            "creating dglke.egg-info\n",
            "writing dglke.egg-info/PKG-INFO\n",
            "writing dependency_links to dglke.egg-info/dependency_links.txt\n",
            "writing entry points to dglke.egg-info/entry_points.txt\n",
            "writing requirements to dglke.egg-info/requires.txt\n",
            "writing top-level names to dglke.egg-info/top_level.txt\n",
            "writing manifest file 'dglke.egg-info/SOURCES.txt'\n",
            "writing manifest file 'dglke.egg-info/SOURCES.txt'\n",
            "installing library code to build/bdist.linux-x86_64/egg\n",
            "running install_lib\n",
            "running build_py\n",
            "creating build\n",
            "creating build/lib\n",
            "creating build/lib/dglke\n",
            "copying dglke/kvserver.py -> build/lib/dglke\n",
            "copying dglke/kvclient.py -> build/lib/dglke\n",
            "copying dglke/utils.py -> build/lib/dglke\n",
            "copying dglke/dist_train.py -> build/lib/dglke\n",
            "copying dglke/__init__.py -> build/lib/dglke\n",
            "copying dglke/train.py -> build/lib/dglke\n",
            "copying dglke/train_pytorch.py -> build/lib/dglke\n",
            "copying dglke/partition.py -> build/lib/dglke\n",
            "copying dglke/eval.py -> build/lib/dglke\n",
            "copying dglke/train_mxnet.py -> build/lib/dglke\n",
            "copying dglke/infer_score.py -> build/lib/dglke\n",
            "copying dglke/convert.py -> build/lib/dglke\n",
            "copying dglke/infer_emb_sim.py -> build/lib/dglke\n",
            "creating build/lib/dglke/dataloader\n",
            "copying dglke/dataloader/__init__.py -> build/lib/dglke/dataloader\n",
            "copying dglke/dataloader/KGDataset.py -> build/lib/dglke/dataloader\n",
            "copying dglke/dataloader/sampler.py -> build/lib/dglke/dataloader\n",
            "creating build/lib/dglke/models\n",
            "copying dglke/models/general_models.py -> build/lib/dglke/models\n",
            "copying dglke/models/__init__.py -> build/lib/dglke/models\n",
            "copying dglke/models/base_loss.py -> build/lib/dglke/models\n",
            "copying dglke/models/infer.py -> build/lib/dglke/models\n",
            "copying dglke/models/ke_model.py -> build/lib/dglke/models\n",
            "creating build/lib/dglke/models/mxnet\n",
            "copying dglke/models/mxnet/__init__.py -> build/lib/dglke/models/mxnet\n",
            "copying dglke/models/mxnet/loss.py -> build/lib/dglke/models/mxnet\n",
            "copying dglke/models/mxnet/tensor_models.py -> build/lib/dglke/models/mxnet\n",
            "copying dglke/models/mxnet/score_fun.py -> build/lib/dglke/models/mxnet\n",
            "creating build/lib/dglke/models/pytorch\n",
            "copying dglke/models/pytorch/__init__.py -> build/lib/dglke/models/pytorch\n",
            "copying dglke/models/pytorch/ke_tensor.py -> build/lib/dglke/models/pytorch\n",
            "copying dglke/models/pytorch/loss.py -> build/lib/dglke/models/pytorch\n",
            "copying dglke/models/pytorch/tensor_models.py -> build/lib/dglke/models/pytorch\n",
            "copying dglke/models/pytorch/score_fun.py -> build/lib/dglke/models/pytorch\n",
            "copying dglke/VERSION.txt -> build/lib/dglke\n",
            "creating build/bdist.linux-x86_64\n",
            "creating build/bdist.linux-x86_64/egg\n",
            "creating build/bdist.linux-x86_64/egg/dglke\n",
            "copying build/lib/dglke/kvserver.py -> build/bdist.linux-x86_64/egg/dglke\n",
            "copying build/lib/dglke/kvclient.py -> build/bdist.linux-x86_64/egg/dglke\n",
            "creating build/bdist.linux-x86_64/egg/dglke/dataloader\n",
            "copying build/lib/dglke/dataloader/__init__.py -> build/bdist.linux-x86_64/egg/dglke/dataloader\n",
            "copying build/lib/dglke/dataloader/KGDataset.py -> build/bdist.linux-x86_64/egg/dglke/dataloader\n",
            "copying build/lib/dglke/dataloader/sampler.py -> build/bdist.linux-x86_64/egg/dglke/dataloader\n",
            "copying build/lib/dglke/utils.py -> build/bdist.linux-x86_64/egg/dglke\n",
            "copying build/lib/dglke/dist_train.py -> build/bdist.linux-x86_64/egg/dglke\n",
            "copying build/lib/dglke/__init__.py -> build/bdist.linux-x86_64/egg/dglke\n",
            "copying build/lib/dglke/train.py -> build/bdist.linux-x86_64/egg/dglke\n",
            "copying build/lib/dglke/train_pytorch.py -> build/bdist.linux-x86_64/egg/dglke\n",
            "copying build/lib/dglke/partition.py -> build/bdist.linux-x86_64/egg/dglke\n",
            "copying build/lib/dglke/eval.py -> build/bdist.linux-x86_64/egg/dglke\n",
            "copying build/lib/dglke/train_mxnet.py -> build/bdist.linux-x86_64/egg/dglke\n",
            "copying build/lib/dglke/infer_score.py -> build/bdist.linux-x86_64/egg/dglke\n",
            "copying build/lib/dglke/convert.py -> build/bdist.linux-x86_64/egg/dglke\n",
            "copying build/lib/dglke/infer_emb_sim.py -> build/bdist.linux-x86_64/egg/dglke\n",
            "creating build/bdist.linux-x86_64/egg/dglke/models\n",
            "copying build/lib/dglke/models/general_models.py -> build/bdist.linux-x86_64/egg/dglke/models\n",
            "copying build/lib/dglke/models/__init__.py -> build/bdist.linux-x86_64/egg/dglke/models\n",
            "copying build/lib/dglke/models/base_loss.py -> build/bdist.linux-x86_64/egg/dglke/models\n",
            "creating build/bdist.linux-x86_64/egg/dglke/models/mxnet\n",
            "copying build/lib/dglke/models/mxnet/__init__.py -> build/bdist.linux-x86_64/egg/dglke/models/mxnet\n",
            "copying build/lib/dglke/models/mxnet/loss.py -> build/bdist.linux-x86_64/egg/dglke/models/mxnet\n",
            "copying build/lib/dglke/models/mxnet/tensor_models.py -> build/bdist.linux-x86_64/egg/dglke/models/mxnet\n",
            "copying build/lib/dglke/models/mxnet/score_fun.py -> build/bdist.linux-x86_64/egg/dglke/models/mxnet\n",
            "creating build/bdist.linux-x86_64/egg/dglke/models/pytorch\n",
            "copying build/lib/dglke/models/pytorch/__init__.py -> build/bdist.linux-x86_64/egg/dglke/models/pytorch\n",
            "copying build/lib/dglke/models/pytorch/ke_tensor.py -> build/bdist.linux-x86_64/egg/dglke/models/pytorch\n",
            "copying build/lib/dglke/models/pytorch/loss.py -> build/bdist.linux-x86_64/egg/dglke/models/pytorch\n",
            "copying build/lib/dglke/models/pytorch/tensor_models.py -> build/bdist.linux-x86_64/egg/dglke/models/pytorch\n",
            "copying build/lib/dglke/models/pytorch/score_fun.py -> build/bdist.linux-x86_64/egg/dglke/models/pytorch\n",
            "copying build/lib/dglke/models/infer.py -> build/bdist.linux-x86_64/egg/dglke/models\n",
            "copying build/lib/dglke/models/ke_model.py -> build/bdist.linux-x86_64/egg/dglke/models\n",
            "copying build/lib/dglke/VERSION.txt -> build/bdist.linux-x86_64/egg/dglke\n",
            "byte-compiling build/bdist.linux-x86_64/egg/dglke/kvserver.py to kvserver.cpython-37.pyc\n",
            "byte-compiling build/bdist.linux-x86_64/egg/dglke/kvclient.py to kvclient.cpython-37.pyc\n",
            "byte-compiling build/bdist.linux-x86_64/egg/dglke/dataloader/__init__.py to __init__.cpython-37.pyc\n",
            "byte-compiling build/bdist.linux-x86_64/egg/dglke/dataloader/KGDataset.py to KGDataset.cpython-37.pyc\n",
            "byte-compiling build/bdist.linux-x86_64/egg/dglke/dataloader/sampler.py to sampler.cpython-37.pyc\n",
            "byte-compiling build/bdist.linux-x86_64/egg/dglke/utils.py to utils.cpython-37.pyc\n",
            "byte-compiling build/bdist.linux-x86_64/egg/dglke/dist_train.py to dist_train.cpython-37.pyc\n",
            "byte-compiling build/bdist.linux-x86_64/egg/dglke/__init__.py to __init__.cpython-37.pyc\n",
            "byte-compiling build/bdist.linux-x86_64/egg/dglke/train.py to train.cpython-37.pyc\n",
            "byte-compiling build/bdist.linux-x86_64/egg/dglke/train_pytorch.py to train_pytorch.cpython-37.pyc\n",
            "byte-compiling build/bdist.linux-x86_64/egg/dglke/partition.py to partition.cpython-37.pyc\n",
            "byte-compiling build/bdist.linux-x86_64/egg/dglke/eval.py to eval.cpython-37.pyc\n",
            "byte-compiling build/bdist.linux-x86_64/egg/dglke/train_mxnet.py to train_mxnet.cpython-37.pyc\n",
            "byte-compiling build/bdist.linux-x86_64/egg/dglke/infer_score.py to infer_score.cpython-37.pyc\n",
            "byte-compiling build/bdist.linux-x86_64/egg/dglke/convert.py to convert.cpython-37.pyc\n",
            "byte-compiling build/bdist.linux-x86_64/egg/dglke/infer_emb_sim.py to infer_emb_sim.cpython-37.pyc\n",
            "byte-compiling build/bdist.linux-x86_64/egg/dglke/models/general_models.py to general_models.cpython-37.pyc\n",
            "byte-compiling build/bdist.linux-x86_64/egg/dglke/models/__init__.py to __init__.cpython-37.pyc\n",
            "byte-compiling build/bdist.linux-x86_64/egg/dglke/models/base_loss.py to base_loss.cpython-37.pyc\n",
            "byte-compiling build/bdist.linux-x86_64/egg/dglke/models/mxnet/__init__.py to __init__.cpython-37.pyc\n",
            "byte-compiling build/bdist.linux-x86_64/egg/dglke/models/mxnet/loss.py to loss.cpython-37.pyc\n",
            "byte-compiling build/bdist.linux-x86_64/egg/dglke/models/mxnet/tensor_models.py to tensor_models.cpython-37.pyc\n",
            "byte-compiling build/bdist.linux-x86_64/egg/dglke/models/mxnet/score_fun.py to score_fun.cpython-37.pyc\n",
            "byte-compiling build/bdist.linux-x86_64/egg/dglke/models/pytorch/__init__.py to __init__.cpython-37.pyc\n",
            "byte-compiling build/bdist.linux-x86_64/egg/dglke/models/pytorch/ke_tensor.py to ke_tensor.cpython-37.pyc\n",
            "byte-compiling build/bdist.linux-x86_64/egg/dglke/models/pytorch/loss.py to loss.cpython-37.pyc\n",
            "byte-compiling build/bdist.linux-x86_64/egg/dglke/models/pytorch/tensor_models.py to tensor_models.cpython-37.pyc\n",
            "byte-compiling build/bdist.linux-x86_64/egg/dglke/models/pytorch/score_fun.py to score_fun.cpython-37.pyc\n",
            "byte-compiling build/bdist.linux-x86_64/egg/dglke/models/infer.py to infer.cpython-37.pyc\n",
            "byte-compiling build/bdist.linux-x86_64/egg/dglke/models/ke_model.py to ke_model.cpython-37.pyc\n",
            "creating build/bdist.linux-x86_64/egg/EGG-INFO\n",
            "copying dglke.egg-info/PKG-INFO -> build/bdist.linux-x86_64/egg/EGG-INFO\n",
            "copying dglke.egg-info/SOURCES.txt -> build/bdist.linux-x86_64/egg/EGG-INFO\n",
            "copying dglke.egg-info/dependency_links.txt -> build/bdist.linux-x86_64/egg/EGG-INFO\n",
            "copying dglke.egg-info/entry_points.txt -> build/bdist.linux-x86_64/egg/EGG-INFO\n",
            "copying dglke.egg-info/requires.txt -> build/bdist.linux-x86_64/egg/EGG-INFO\n",
            "copying dglke.egg-info/top_level.txt -> build/bdist.linux-x86_64/egg/EGG-INFO\n",
            "zip_safe flag not set; analyzing archive contents...\n",
            "creating dist\n",
            "creating 'dist/dglke-0.1.0.dev0-py3.7.egg' and adding 'build/bdist.linux-x86_64/egg' to it\n",
            "removing 'build/bdist.linux-x86_64/egg' (and everything under it)\n",
            "Processing dglke-0.1.0.dev0-py3.7.egg\n",
            "Copying dglke-0.1.0.dev0-py3.7.egg to /usr/local/lib/python3.7/dist-packages\n",
            "Adding dglke 0.1.0.dev0 to easy-install.pth file\n",
            "Installing dglke_client script to /usr/local/bin\n",
            "Installing dglke_convert script to /usr/local/bin\n",
            "Installing dglke_dist_train script to /usr/local/bin\n",
            "Installing dglke_emb_sim script to /usr/local/bin\n",
            "Installing dglke_eval script to /usr/local/bin\n",
            "Installing dglke_partition script to /usr/local/bin\n",
            "Installing dglke_predict script to /usr/local/bin\n",
            "Installing dglke_server script to /usr/local/bin\n",
            "Installing dglke_train script to /usr/local/bin\n",
            "\n",
            "Installed /usr/local/lib/python3.7/dist-packages/dglke-0.1.0.dev0-py3.7.egg\n",
            "Processing dependencies for dglke==0.1.0.dev0\n",
            "Searching for setuptools==57.4.0\n",
            "Best match: setuptools 57.4.0\n",
            "Adding setuptools 57.4.0 to easy-install.pth file\n",
            "\n",
            "Using /usr/local/lib/python3.7/dist-packages\n",
            "Searching for numpy==1.21.6\n",
            "Best match: numpy 1.21.6\n",
            "Adding numpy 1.21.6 to easy-install.pth file\n",
            "Installing f2py script to /usr/local/bin\n",
            "Installing f2py3 script to /usr/local/bin\n",
            "Installing f2py3.7 script to /usr/local/bin\n",
            "\n",
            "Using /usr/local/lib/python3.7/dist-packages\n",
            "Finished processing dependencies for dglke==0.1.0.dev0\n"
          ]
        }
      ]
    },
    {
      "cell_type": "markdown",
      "source": [
        "## 作業環境の生成"
      ],
      "metadata": {
        "id": "PvuCWzo1ZuhZ"
      }
    },
    {
      "cell_type": "code",
      "source": [
        "!mkdir my_task\n",
        "%cd my_task"
      ],
      "metadata": {
        "colab": {
          "base_uri": "https://localhost:8080/"
        },
        "id": "dwsmlu_KRQZQ",
        "outputId": "1a35d899-f25d-4d86-bc7c-755bd1ebf10f"
      },
      "execution_count": 4,
      "outputs": [
        {
          "output_type": "stream",
          "name": "stdout",
          "text": [
            "/content/dgl-ke/python/my_task\n"
          ]
        }
      ]
    },
    {
      "cell_type": "markdown",
      "source": [
        "## データのダウンロード、確認"
      ],
      "metadata": {
        "id": "qlO0EtWfZ4ea"
      }
    },
    {
      "cell_type": "code",
      "source": [
        "\n",
        "!wget  https://github.com/KnowledgeGraphJapan/KGRC-ws-2022/raw/main/notebooks/train.txt\n",
        "!wget  https://github.com/KnowledgeGraphJapan/KGRC-ws-2022/raw/main/notebooks/head2.list"
      ],
      "metadata": {
        "colab": {
          "base_uri": "https://localhost:8080/"
        },
        "id": "ymAotLCeXRB6",
        "outputId": "3089ca5a-b057-4d38-cd9a-74039ea510d8"
      },
      "execution_count": 13,
      "outputs": [
        {
          "output_type": "stream",
          "name": "stdout",
          "text": [
            "--2022-11-15 04:00:45--  https://github.com/KnowledgeGraphJapan/KGRC-ws-2022/raw/main/notebooks/train.txt\n",
            "Resolving github.com (github.com)... 140.82.121.4\n",
            "Connecting to github.com (github.com)|140.82.121.4|:443... connected.\n",
            "HTTP request sent, awaiting response... 302 Found\n",
            "Location: https://raw.githubusercontent.com/KnowledgeGraphJapan/KGRC-ws-2022/main/notebooks/train.txt [following]\n",
            "--2022-11-15 04:00:45--  https://raw.githubusercontent.com/KnowledgeGraphJapan/KGRC-ws-2022/main/notebooks/train.txt\n",
            "Resolving raw.githubusercontent.com (raw.githubusercontent.com)... 185.199.108.133, 185.199.109.133, 185.199.110.133, ...\n",
            "Connecting to raw.githubusercontent.com (raw.githubusercontent.com)|185.199.108.133|:443... connected.\n",
            "HTTP request sent, awaiting response... 200 OK\n",
            "Length: 183721 (179K) [text/plain]\n",
            "Saving to: ‘train.txt’\n",
            "\n",
            "\rtrain.txt             0%[                    ]       0  --.-KB/s               \rtrain.txt           100%[===================>] 179.42K  --.-KB/s    in 0.008s  \n",
            "\n",
            "2022-11-15 04:00:45 (22.0 MB/s) - ‘train.txt’ saved [183721/183721]\n",
            "\n",
            "--2022-11-15 04:00:45--  https://github.com/KnowledgeGraphJapan/KGRC-ws-2022/raw/main/notebooks/head2.list\n",
            "Resolving github.com (github.com)... 140.82.121.4\n",
            "Connecting to github.com (github.com)|140.82.121.4|:443... connected.\n",
            "HTTP request sent, awaiting response... 302 Found\n",
            "Location: https://raw.githubusercontent.com/KnowledgeGraphJapan/KGRC-ws-2022/main/notebooks/head2.list [following]\n",
            "--2022-11-15 04:00:45--  https://raw.githubusercontent.com/KnowledgeGraphJapan/KGRC-ws-2022/main/notebooks/head2.list\n",
            "Resolving raw.githubusercontent.com (raw.githubusercontent.com)... 185.199.111.133, 185.199.108.133, 185.199.110.133, ...\n",
            "Connecting to raw.githubusercontent.com (raw.githubusercontent.com)|185.199.111.133|:443... connected.\n",
            "HTTP request sent, awaiting response... 200 OK\n",
            "Length: 4 [text/plain]\n",
            "Saving to: ‘head2.list’\n",
            "\n",
            "head2.list          100%[===================>]       4  --.-KB/s    in 0s      \n",
            "\n",
            "2022-11-15 04:00:45 (250 KB/s) - ‘head2.list’ saved [4/4]\n",
            "\n"
          ]
        }
      ]
    },
    {
      "cell_type": "code",
      "source": [
        "!mkdir mykg\n",
        "!mv train.txt mykg\n",
        "!wc mykg/train.txt\n",
        "!head mykg/train.txt"
      ],
      "metadata": {
        "colab": {
          "base_uri": "https://localhost:8080/"
        },
        "id": "qxJB4qTrSDZ4",
        "outputId": "bbc7e5ce-5271-4a45-e3dd-98ac57453f40"
      },
      "execution_count": 6,
      "outputs": [
        {
          "output_type": "stream",
          "name": "stdout",
          "text": [
            "  3225  16362 183721 mykg/train.txt\n",
            "\"Smithyton\",\"SEAT_OF\",\"House Shermer of Smithyton\"\n",
            "\"House Mormont of Bear Island\",\"LED_BY\",\"Maege Mormont\"\n",
            "\"Margaery Tyrell\",\"SPOUSE\",\"Joffrey Baratheon\"\n",
            "\"Maron Nymeros Martell\",\"ALLIED_WITH\",\"House Nymeros Martell of Sunspear\"\n",
            "\"House Gargalen of Salt Shore\",\"IN_REGION\",\"Dorne\"\n",
            "\"Sharp Point\",\"SEAT_OF\",\"House Bar Emmon of Sharp Point\"\n",
            "\"Lanna Lannister\",\"ALLIED_WITH\",\"House Jast\"\n",
            "\"House Moore\",\"SWORN_TO\",\"House Arryn of the Eyrie\"\n",
            "\"Harlan Hunter\",\"ALLIED_WITH\",\"House Hunter of Longbow Hall\"\n",
            "\"House Celtigar of Claw Isle\",\"SWORN_TO\",\"House Baratheon of King's Landing\"\n"
          ]
        }
      ]
    },
    {
      "cell_type": "markdown",
      "source": [
        "## 学習"
      ],
      "metadata": {
        "id": "uzvFFcdXaLvf"
      }
    },
    {
      "cell_type": "code",
      "source": [
        "!DGLBACKEND=pytorch dglke_train --model_name TransE_l2  --data_path mykg --dataset mykg --format raw_udd_hrt --delimiter \",\" --data_files train.txt \\\n",
        "--batch_size 2 --neg_sample_size 2 --hidden_dim 4 --gamma 19.9 --lr 0.25 --max_step 10 --log_interval 2 \\\n",
        "-adv --regularization_coef 1.00E-09 --gpu 0"
      ],
      "metadata": {
        "id": "JdXrAQ9_9zeW",
        "outputId": "0341f382-d5b9-4f29-e585-0dd9a3b997cd",
        "colab": {
          "base_uri": "https://localhost:8080/"
        }
      },
      "execution_count": 9,
      "outputs": [
        {
          "output_type": "stream",
          "name": "stdout",
          "text": [
            "Reading train triples....\n",
            "Finished. Read 3225 train triples.\n",
            "/usr/local/lib/python3.7/dist-packages/dgl/base.py:25: UserWarning: multigraph will be deprecated.DGL will treat all graphs as multigraph in the future.\n",
            "  warnings.warn(msg, warn_type)\n",
            "|Train|: 3225\n",
            "Total initialize time 3.714 seconds\n",
            "[proc 0][Train](2/10) average pos_loss: 0.0009547588415443897\n",
            "[proc 0][Train](2/10) average neg_loss: 11.63644790649414\n",
            "[proc 0][Train](2/10) average loss: 5.818701267242432\n",
            "[proc 0][Train](2/10) average regularization: 1.2593258702509047e-06\n",
            "[proc 0][Train] 2 steps take 2.339 seconds\n",
            "[proc 0]sample: 0.004, forward: 2.309, backward: 0.024, update: 0.001\n",
            "[proc 0][Train](4/10) average pos_loss: 0.0004450760443432955\n",
            "[proc 0][Train](4/10) average neg_loss: 11.974027633666992\n",
            "[proc 0][Train](4/10) average loss: 5.987236499786377\n",
            "[proc 0][Train](4/10) average regularization: 1.2293441500332847e-06\n",
            "[proc 0][Train] 2 steps take 0.008 seconds\n",
            "[proc 0]sample: 0.001, forward: 0.003, backward: 0.003, update: 0.001\n",
            "[proc 0][Train](6/10) average pos_loss: 0.0008645528396300506\n",
            "[proc 0][Train](6/10) average neg_loss: 10.43661117553711\n",
            "[proc 0][Train](6/10) average loss: 5.218737840652466\n",
            "[proc 0][Train](6/10) average regularization: 1.431204907476058e-06\n",
            "[proc 0][Train] 2 steps take 0.008 seconds\n",
            "[proc 0]sample: 0.001, forward: 0.003, backward: 0.003, update: 0.001\n",
            "[proc 0][Train](8/10) average pos_loss: 0.00887434888863936\n",
            "[proc 0][Train](8/10) average neg_loss: 8.48425579071045\n",
            "[proc 0][Train](8/10) average loss: 4.246565103530884\n",
            "[proc 0][Train](8/10) average regularization: 1.5937960142764496e-06\n",
            "[proc 0][Train] 2 steps take 0.007 seconds\n",
            "[proc 0]sample: 0.001, forward: 0.003, backward: 0.003, update: 0.001\n",
            "[proc 0][Train](10/10) average pos_loss: 0.00011535763951542322\n",
            "[proc 0][Train](10/10) average neg_loss: 9.05877685546875\n",
            "[proc 0][Train](10/10) average loss: 4.529446125030518\n",
            "[proc 0][Train](10/10) average regularization: 1.4682213418382162e-06\n",
            "[proc 0][Train] 2 steps take 0.007 seconds\n",
            "[proc 0]sample: 0.001, forward: 0.003, backward: 0.003, update: 0.001\n",
            "proc 0 takes 2.370 seconds\n",
            "training takes 2.369826316833496 seconds\n",
            "Save model to ckpts/TransE_l2_mykg_2\n"
          ]
        }
      ]
    },
    {
      "cell_type": "markdown",
      "source": [
        "## 予測対象"
      ],
      "metadata": {
        "id": "XF0BCoQiac0j"
      }
    },
    {
      "cell_type": "code",
      "source": [
        "!head mykg/entities.tsv"
      ],
      "metadata": {
        "colab": {
          "base_uri": "https://localhost:8080/"
        },
        "outputId": "1c31db4d-a8bb-44a3-8449-4d907032e4bb",
        "id": "ehZ0CmW3Ytse"
      },
      "execution_count": 10,
      "outputs": [
        {
          "output_type": "stream",
          "name": "stdout",
          "text": [
            "0,\"Smithyton\"\n",
            "1,\"House Shermer of Smithyton\"\n",
            "2,\"House Mormont of Bear Island\"\n",
            "3,\"Maege Mormont\"\n",
            "4,\"Margaery Tyrell\"\n",
            "5,\"Joffrey Baratheon\"\n",
            "6,\"Maron Nymeros Martell\"\n",
            "7,\"House Nymeros Martell of Sunspear\"\n",
            "8,\"House Gargalen of Salt Shore\"\n",
            "9,\"Dorne\"\n"
          ]
        }
      ]
    },
    {
      "cell_type": "code",
      "source": [
        "!cat head2.list"
      ],
      "metadata": {
        "colab": {
          "base_uri": "https://localhost:8080/"
        },
        "id": "09bboFcGYh44",
        "outputId": "97e69d69-910a-4587-f1ba-ffa57492ab39"
      },
      "execution_count": 14,
      "outputs": [
        {
          "output_type": "stream",
          "name": "stdout",
          "text": [
            "0\n",
            "2\n"
          ]
        }
      ]
    },
    {
      "cell_type": "markdown",
      "source": [
        "## 類似エンティティの検索"
      ],
      "metadata": {
        "id": "9iVhtCqXaiSs"
      }
    },
    {
      "cell_type": "code",
      "source": [
        "!DGLBACKEND=pytorch dglke_emb_sim --emb_file ckpts/TransE_l2_mykg_2/mykg_TransE_l2_entity.npy --format 'l_*' --data_files head2.list  --topK 5 --gpu 0"
      ],
      "metadata": {
        "id": "EhlrkkwjJZLy",
        "outputId": "646c1cda-8b83-4c16-b4f6-03d50a94d06f",
        "colab": {
          "base_uri": "https://localhost:8080/"
        }
      },
      "execution_count": 18,
      "outputs": [
        {
          "output_type": "stream",
          "name": "stdout",
          "text": [
            "/usr/local/lib/python3.7/dist-packages/dglke-0.1.0.dev0-py3.7.egg/dglke/models/pytorch/tensor_models.py:103: UserWarning: floor_divide is deprecated, and will be removed in a future version of pytorch. It currently rounds toward 0 (like the 'trunc' function NOT 'floor'). This results in incorrect rounding for negative values.\n",
            "To keep the current behavior, use torch.div(a, b, rounding_mode='trunc'), or for actual floor division, use torch.div(a, b, rounding_mode='floor'). (Triggered internally at  ../aten/src/ATen/native/BinaryOps.cpp:594.)\n",
            "Inference Done\n",
            "The result is saved in result.tsv\n"
          ]
        }
      ]
    },
    {
      "cell_type": "code",
      "source": [
        "!cat result.tsv"
      ],
      "metadata": {
        "colab": {
          "base_uri": "https://localhost:8080/"
        },
        "id": "DPqSBerCYfTx",
        "outputId": "d31ffb04-908e-4bb8-b8c3-098708f8f518"
      },
      "execution_count": 19,
      "outputs": [
        {
          "output_type": "stream",
          "name": "stdout",
          "text": [
            "left\tright\tscore\n",
            "0\t0\t1.0\n",
            "2\t2\t0.9999998807907104\n",
            "2\t751\t0.9971553087234497\n",
            "0\t1082\t0.9926936626434326\n",
            "2\t963\t0.9881163835525513\n"
          ]
        }
      ]
    },
    {
      "cell_type": "code",
      "source": [
        "## リンク予測"
      ],
      "metadata": {
        "id": "IP-y_mJba4YL"
      },
      "execution_count": null,
      "outputs": []
    },
    {
      "cell_type": "code",
      "source": [
        "!DGLBACKEND=pytorch dglke_predict --model_path ckpts/TransE_l2_mykg_2/ --format 'h_*_*' --data_files head2.list --score_func logsigmoid --topK 5 --exec_mode 'batch_head'"
      ],
      "metadata": {
        "id": "_7XzYWEwDhq_",
        "outputId": "d3c0c49e-f4a8-4239-debf-28503011e24b",
        "colab": {
          "base_uri": "https://localhost:8080/"
        }
      },
      "execution_count": 21,
      "outputs": [
        {
          "output_type": "stream",
          "name": "stdout",
          "text": [
            "ckpts/TransE_l2_mykg_2/config.json\n",
            "{'model_name': 'TransE_l2', 'data_path': 'mykg', 'dataset': 'mykg', 'format': 'raw_udd_hrt', 'data_files': ['train.txt'], 'delimiter': ',', 'save_path': 'ckpts/TransE_l2_mykg_2', 'no_save_emb': False, 'max_step': 10, 'batch_size': 2, 'batch_size_eval': 8, 'neg_sample_size': 2, 'neg_deg_sample': False, 'neg_deg_sample_eval': False, 'neg_sample_size_eval': 2052, 'eval_percent': 1, 'no_eval_filter': False, 'log_interval': 2, 'eval_interval': 10000, 'test': False, 'num_proc': 1, 'num_thread': 1, 'force_sync_interval': -1, 'hidden_dim': 4, 'lr': 0.25, 'gamma': 19.9, 'double_ent': False, 'double_rel': False, 'neg_adversarial_sampling': True, 'adversarial_temperature': 1.0, 'regularization_coef': 1e-09, 'regularization_norm': 3, 'pairwise': False, 'loss_genre': 'Logsigmoid', 'margin': 1.0, 'gpu': [0], 'mix_cpu_gpu': False, 'valid': False, 'rel_part': False, 'async_update': False, 'has_edge_importance': False, 'eval_filter': True, 'soft_rel_part': False, 'strict_rel_part': False, 'num_workers': 8, 'emp_file': 'entities.tsv', 'rmap_file': 'relations.tsv'}\n",
            "/usr/local/lib/python3.7/dist-packages/dglke-0.1.0.dev0-py3.7.egg/dglke/models/pytorch/tensor_models.py:103: UserWarning: floor_divide is deprecated, and will be removed in a future version of pytorch. It currently rounds toward 0 (like the 'trunc' function NOT 'floor'). This results in incorrect rounding for negative values.\n",
            "To keep the current behavior, use torch.div(a, b, rounding_mode='trunc'), or for actual floor division, use torch.div(a, b, rounding_mode='floor'). (Triggered internally at  ../aten/src/ATen/native/BinaryOps.cpp:594.)\n",
            "Inference Done\n",
            "The result is saved in result.tsv\n"
          ]
        }
      ]
    },
    {
      "cell_type": "code",
      "source": [
        "!cat result.tsv"
      ],
      "metadata": {
        "colab": {
          "base_uri": "https://localhost:8080/"
        },
        "id": "hTX-LmsKSxua",
        "outputId": "9f68b650-cef9-4014-92d8-f571b7b4c2fc"
      },
      "execution_count": 22,
      "outputs": [
        {
          "output_type": "stream",
          "name": "stdout",
          "text": [
            "head\trel\ttail\tscore\n",
            "0\t13\t1875\t-3.6415142012913293e-09\n",
            "0\t10\t1456\t-4.8816382047789375e-09\n",
            "0\t12\t1859\t-5.781816803107631e-09\n",
            "0\t12\t881\t-6.5375016511382e-09\n",
            "0\t2\t941\t-6.7305792050831315e-09\n",
            "2\t12\t1181\t-4.503656558796365e-09\n",
            "2\t12\t1376\t-6.39791108980603e-09\n",
            "2\t12\t433\t-7.161890636098178e-09\n",
            "2\t12\t1441\t-7.304135518637622e-09\n",
            "2\t11\t1072\t-7.971993731814564e-09\n"
          ]
        }
      ]
    },
    {
      "cell_type": "markdown",
      "source": [
        "ナレッジグラフには含まれない組み合わせが予測されている"
      ],
      "metadata": {
        "id": "mZh4UOOgbf3z"
      }
    }
  ]
}